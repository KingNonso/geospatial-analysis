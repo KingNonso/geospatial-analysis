{
 "cells": [
  {
   "cell_type": "markdown",
   "metadata": {},
   "source": [
    "# <h1><center>Workshop 4</center></h1>\n",
    "## Objectives"
   ]
  },
  {
   "cell_type": "markdown",
   "metadata": {},
   "source": [
    "- To appreciate the role of buffer analysis under the wider realm of geospatial analysis. \n",
    "- To apply buffer analysis for planning the route of an avaiation company\n",
    "- To learn the usage of datasets available with GeoPandas\n",
    "\n"
   ]
  },
  {
   "cell_type": "markdown",
   "metadata": {},
   "source": [
    "## Prior to starting this workshop you must import some key libraries "
   ]
  },
  {
   "cell_type": "code",
   "execution_count": 1,
   "metadata": {},
   "outputs": [],
   "source": [
    "# Import these libraries: Geopandas, Pandas and Matplotlip.pyplot\n",
    "import pandas as pd\n",
    "import geopandas as gpd\n",
    "import matplotlib.pyplot as plt"
   ]
  },
  {
   "cell_type": "markdown",
   "metadata": {},
   "source": [
    "# Buffer analysis basics\n"
   ]
  },
  {
   "cell_type": "markdown",
   "metadata": {},
   "source": [
    "<div class=\"alert alert-block alert-info\">\n",
    "    \n",
    "<b>Instructions:</b> \n",
    "\n",
    "\n",
    "* <span style='font-family:Georgia'> Read the Swimming Pool Dataset (swimming_pools.shp) in the Workshop4Data folder\n",
    "    \n",
    "* <span style='font-family:Georgia'> Display the first five rows of the dataset.\n",
    " \n",
    "</div>"
   ]
  },
  {
   "cell_type": "code",
   "execution_count": 2,
   "metadata": {},
   "outputs": [
    {
     "data": {
      "text/html": [
       "<div>\n",
       "<style scoped>\n",
       "    .dataframe tbody tr th:only-of-type {\n",
       "        vertical-align: middle;\n",
       "    }\n",
       "\n",
       "    .dataframe tbody tr th {\n",
       "        vertical-align: top;\n",
       "    }\n",
       "\n",
       "    .dataframe thead th {\n",
       "        text-align: right;\n",
       "    }\n",
       "</style>\n",
       "<table border=\"1\" class=\"dataframe\">\n",
       "  <thead>\n",
       "    <tr style=\"text-align: right;\">\n",
       "      <th></th>\n",
       "      <th>OBJECTID</th>\n",
       "      <th>NAME</th>\n",
       "      <th>PARK_NAME</th>\n",
       "      <th>ADDRESS_91</th>\n",
       "      <th>ZIP_CODE</th>\n",
       "      <th>POOL_TYPE</th>\n",
       "      <th>POOL_STATU</th>\n",
       "      <th>COMMENTS</th>\n",
       "      <th>DATE_INSTA</th>\n",
       "      <th>DATA_SOURC</th>\n",
       "      <th>geometry</th>\n",
       "    </tr>\n",
       "  </thead>\n",
       "  <tbody>\n",
       "    <tr>\n",
       "      <th>0</th>\n",
       "      <td>1</td>\n",
       "      <td>Fox Chase Pool</td>\n",
       "      <td>Fox Chase Recreation Center</td>\n",
       "      <td>7901 RIDGEWAY ST</td>\n",
       "      <td>19111</td>\n",
       "      <td>OUTDOOR</td>\n",
       "      <td>ACTIVE</td>\n",
       "      <td>NaN</td>\n",
       "      <td>NaN</td>\n",
       "      <td>Finder; Previous GIS Data</td>\n",
       "      <td>POINT (-75.08232 40.07367)</td>\n",
       "    </tr>\n",
       "    <tr>\n",
       "      <th>1</th>\n",
       "      <td>2</td>\n",
       "      <td>Mitchell Pool</td>\n",
       "      <td>Thomas Mitchell Memorial Playground</td>\n",
       "      <td>3600 WHITEHALL LN</td>\n",
       "      <td>19114</td>\n",
       "      <td>OUTDOOR</td>\n",
       "      <td>ACTIVE</td>\n",
       "      <td>NaN</td>\n",
       "      <td>2012-01-01</td>\n",
       "      <td>Capital 2019; Finder</td>\n",
       "      <td>POINT (-74.99143 40.06830)</td>\n",
       "    </tr>\n",
       "    <tr>\n",
       "      <th>2</th>\n",
       "      <td>3</td>\n",
       "      <td>Jardel Pool</td>\n",
       "      <td>Thomas E. Jardel Memorial Field</td>\n",
       "      <td>1400 COTTMAN AVE</td>\n",
       "      <td>19111</td>\n",
       "      <td>OUTDOOR</td>\n",
       "      <td>ACTIVE</td>\n",
       "      <td>NaN</td>\n",
       "      <td>NaN</td>\n",
       "      <td>Finder; Previous GIS Data</td>\n",
       "      <td>POINT (-75.07590 40.05629)</td>\n",
       "    </tr>\n",
       "    <tr>\n",
       "      <th>3</th>\n",
       "      <td>4</td>\n",
       "      <td>Jacobs Pool</td>\n",
       "      <td>George Jacobs Playground</td>\n",
       "      <td>4500 LINDEN AVE</td>\n",
       "      <td>19136</td>\n",
       "      <td>OUTDOOR</td>\n",
       "      <td>ACTIVE</td>\n",
       "      <td>NaN</td>\n",
       "      <td>NaN</td>\n",
       "      <td>Aquatics 2019; Finder</td>\n",
       "      <td>POINT (-75.00284 40.05266)</td>\n",
       "    </tr>\n",
       "    <tr>\n",
       "      <th>4</th>\n",
       "      <td>5</td>\n",
       "      <td>Morris Estates Pool</td>\n",
       "      <td>Morris Estate Cultural Center</td>\n",
       "      <td>1610 CHELTEN AVE</td>\n",
       "      <td>19141</td>\n",
       "      <td>OUTDOOR</td>\n",
       "      <td>ACTIVE</td>\n",
       "      <td>Emergency access is from Chelten around the bu...</td>\n",
       "      <td>NaN</td>\n",
       "      <td>Finder; Administration</td>\n",
       "      <td>POINT (-75.14641 40.04992)</td>\n",
       "    </tr>\n",
       "  </tbody>\n",
       "</table>\n",
       "</div>"
      ],
      "text/plain": [
       "   OBJECTID                 NAME                            PARK_NAME  \\\n",
       "0         1       Fox Chase Pool          Fox Chase Recreation Center   \n",
       "1         2        Mitchell Pool  Thomas Mitchell Memorial Playground   \n",
       "2         3          Jardel Pool      Thomas E. Jardel Memorial Field   \n",
       "3         4          Jacobs Pool             George Jacobs Playground   \n",
       "4         5  Morris Estates Pool        Morris Estate Cultural Center   \n",
       "\n",
       "          ADDRESS_91  ZIP_CODE POOL_TYPE POOL_STATU  \\\n",
       "0   7901 RIDGEWAY ST     19111   OUTDOOR     ACTIVE   \n",
       "1  3600 WHITEHALL LN     19114   OUTDOOR     ACTIVE   \n",
       "2   1400 COTTMAN AVE     19111   OUTDOOR     ACTIVE   \n",
       "3    4500 LINDEN AVE     19136   OUTDOOR     ACTIVE   \n",
       "4   1610 CHELTEN AVE     19141   OUTDOOR     ACTIVE   \n",
       "\n",
       "                                            COMMENTS  DATE_INSTA  \\\n",
       "0                                                NaN         NaN   \n",
       "1                                                NaN  2012-01-01   \n",
       "2                                                NaN         NaN   \n",
       "3                                                NaN         NaN   \n",
       "4  Emergency access is from Chelten around the bu...         NaN   \n",
       "\n",
       "                  DATA_SOURC                    geometry  \n",
       "0  Finder; Previous GIS Data  POINT (-75.08232 40.07367)  \n",
       "1       Capital 2019; Finder  POINT (-74.99143 40.06830)  \n",
       "2  Finder; Previous GIS Data  POINT (-75.07590 40.05629)  \n",
       "3      Aquatics 2019; Finder  POINT (-75.00284 40.05266)  \n",
       "4     Finder; Administration  POINT (-75.14641 40.04992)  "
      ]
     },
     "execution_count": 2,
     "metadata": {},
     "output_type": "execute_result"
    }
   ],
   "source": [
    "shp = 'week4/swimming_pools.shp'\n",
    "pools = gpd.read_file(shp)\n",
    "pools.head()"
   ]
  },
  {
   "cell_type": "markdown",
   "metadata": {},
   "source": [
    "<div class=\"alert alert-block alert-info\">\n",
    "    \n",
    "* <span style='font-family:Georgia'> Plot the swimming pools data with Geopandas. \n",
    " \n",
    "</div>"
   ]
  },
  {
   "cell_type": "code",
   "execution_count": 3,
   "metadata": {},
   "outputs": [
    {
     "data": {
      "text/plain": [
       "<Axes: >"
      ]
     },
     "execution_count": 3,
     "metadata": {},
     "output_type": "execute_result"
    },
    {
     "data": {
      "image/png": "[encoded data removed]",
      "text/plain": [
       "<Figure size 640x480 with 1 Axes>"
      ]
     },
     "metadata": {},
     "output_type": "display_data"
    }
   ],
   "source": [
    "pools.plot()"
   ]
  },
  {
   "cell_type": "markdown",
   "metadata": {},
   "source": [
    "<div class=\"alert alert-block alert-info\">\n",
    "    \n",
    "* <span style='font-family:Georgia'> Find the the swimming pool with the following name \"Fox Chase Pool\". Plot Fox Chase Pool. \n",
    " \n",
    "</div>"
   ]
  },
  {
   "cell_type": "code",
   "execution_count": 5,
   "metadata": {},
   "outputs": [
    {
     "data": {
      "text/html": [
       "<div>\n",
       "<style scoped>\n",
       "    .dataframe tbody tr th:only-of-type {\n",
       "        vertical-align: middle;\n",
       "    }\n",
       "\n",
       "    .dataframe tbody tr th {\n",
       "        vertical-align: top;\n",
       "    }\n",
       "\n",
       "    .dataframe thead th {\n",
       "        text-align: right;\n",
       "    }\n",
       "</style>\n",
       "<table border=\"1\" class=\"dataframe\">\n",
       "  <thead>\n",
       "    <tr style=\"text-align: right;\">\n",
       "      <th></th>\n",
       "      <th>OBJECTID</th>\n",
       "      <th>NAME</th>\n",
       "      <th>PARK_NAME</th>\n",
       "      <th>ADDRESS_91</th>\n",
       "      <th>ZIP_CODE</th>\n",
       "      <th>POOL_TYPE</th>\n",
       "      <th>POOL_STATU</th>\n",
       "      <th>COMMENTS</th>\n",
       "      <th>DATE_INSTA</th>\n",
       "      <th>DATA_SOURC</th>\n",
       "      <th>geometry</th>\n",
       "    </tr>\n",
       "  </thead>\n",
       "  <tbody>\n",
       "    <tr>\n",
       "      <th>0</th>\n",
       "      <td>1</td>\n",
       "      <td>Fox Chase Pool</td>\n",
       "      <td>Fox Chase Recreation Center</td>\n",
       "      <td>7901 RIDGEWAY ST</td>\n",
       "      <td>19111</td>\n",
       "      <td>OUTDOOR</td>\n",
       "      <td>ACTIVE</td>\n",
       "      <td>NaN</td>\n",
       "      <td>NaN</td>\n",
       "      <td>Finder; Previous GIS Data</td>\n",
       "      <td>POINT (-75.08232 40.07367)</td>\n",
       "    </tr>\n",
       "  </tbody>\n",
       "</table>\n",
       "</div>"
      ],
      "text/plain": [
       "   OBJECTID            NAME                    PARK_NAME        ADDRESS_91  \\\n",
       "0         1  Fox Chase Pool  Fox Chase Recreation Center  7901 RIDGEWAY ST   \n",
       "\n",
       "   ZIP_CODE POOL_TYPE POOL_STATU COMMENTS DATE_INSTA  \\\n",
       "0     19111   OUTDOOR     ACTIVE      NaN        NaN   \n",
       "\n",
       "                  DATA_SOURC                    geometry  \n",
       "0  Finder; Previous GIS Data  POINT (-75.08232 40.07367)  "
      ]
     },
     "execution_count": 5,
     "metadata": {},
     "output_type": "execute_result"
    }
   ],
   "source": [
    "fox_pool = pools[pools[\"NAME\"] == \"Fox Chase Pool\"]\n",
    "fox_pool.head()"
   ]
  },
  {
   "cell_type": "markdown",
   "metadata": {},
   "source": [
    "<div class=\"alert alert-block alert-info\">\n",
    "    \n",
    "* <span style='font-family:Georgia'> Create the buffer around the Fox Chase Pool with a distance of your choice (e.g. 10 units). \n",
    " \n",
    "</div>"
   ]
  },
  {
   "cell_type": "code",
   "execution_count": 36,
   "metadata": {},
   "outputs": [
    {
     "name": "stderr",
     "output_type": "stream",
     "text": [
      "/var/folders/3x/5jj60pms5ml09xsn32f0c4yr0000gn/T/ipykernel_21368/3919777889.py:1: UserWarning: Geometry is in a geographic CRS. Results from 'buffer' are likely incorrect. Use 'GeoSeries.to_crs()' to re-project geometries to a projected CRS before this operation.\n",
      "\n",
      "  fox_pool_buffered = fox_pool.geometry.buffer(2)\n"
     ]
    }
   ],
   "source": [
    "fox_pool_buffered = fox_pool.geometry.buffer(2)"
   ]
  },
  {
   "cell_type": "markdown",
   "metadata": {},
   "source": [
    "\n",
    "<div class=\"alert alert-block alert-info\">\n",
    "    \n",
    "* <span style='font-family:Georgia'> Plot the buffered point around the Fox Chase Pool  . \n",
    " \n",
    "</div>"
   ]
  },
  {
   "cell_type": "code",
   "execution_count": 37,
   "metadata": {},
   "outputs": [
    {
     "data": {
      "text/plain": [
       "<Axes: >"
      ]
     },
     "execution_count": 37,
     "metadata": {},
     "output_type": "execute_result"
    },
    {
     "data": {
      "image/png": "[encoded data removed]",
      "text/plain": [
       "<Figure size 640x480 with 1 Axes>"
      ]
     },
     "metadata": {},
     "output_type": "display_data"
    }
   ],
   "source": [
    "fox_pool_buffered.plot(color='red')"
   ]
  },
  {
   "cell_type": "markdown",
   "metadata": {},
   "source": [
    "\n",
    "<div class=\"alert alert-block alert-info\">\n",
    "    \n",
    "* <span style='font-family:Georgia'> Which number did you choose for the distance?. \n",
    " \n",
    "</div>"
   ]
  },
  {
   "cell_type": "markdown",
   "metadata": {},
   "source": [
    "<div class=\"alert alert-block alert-info\">\n",
    "    \n",
    "* <span style='font-family:Georgia'> Is it meters, Kilometers, foot or something else? How do you know it? (Hint: Check the CRS)\n",
    " \n",
    "</div>"
   ]
  },
  {
   "cell_type": "code",
   "execution_count": 38,
   "metadata": {},
   "outputs": [
    {
     "data": {
      "text/plain": [
       "<Geographic 2D CRS: GEOGCS[\"WGS 84\",DATUM[\"WGS_1984\",SPHEROID[\"WGS 84\" ...>\n",
       "Name: WGS 84\n",
       "Axis Info [ellipsoidal]:\n",
       "- lon[east]: Longitude (Degree)\n",
       "- lat[north]: Latitude (Degree)\n",
       "Area of Use:\n",
       "- undefined\n",
       "Datum: World Geodetic System 1984\n",
       "- Ellipsoid: WGS 84\n",
       "- Prime Meridian: Greenwich"
      ]
     },
     "execution_count": 38,
     "metadata": {},
     "output_type": "execute_result"
    }
   ],
   "source": [
    "# Which number did you choose for the distance: 2\n",
    "fox_pool_centroid.crs"
   ]
  },
  {
   "cell_type": "markdown",
   "metadata": {},
   "source": [
    "\n",
    "<div class=\"alert alert-block alert-info\">\n",
    "    \n",
    "<b>Instructions:</b> \n",
    "\n",
    "\n",
    "* <span style='font-family:Georgia'> Can you find out a CRS that uses Meters  as Unit of measurement? (Hint: search in https://epsg.io/)\n",
    "    \n",
    "* <span style='font-family:Georgia'> If you manage to find out a CRS that has meter as unit of measure, set the CRS of the swimming pool to the meter based CRS. A meter based units is being set here. You can use to_crs() \n",
    " \n",
    "</div>"
   ]
  },
  {
   "cell_type": "code",
   "execution_count": 39,
   "metadata": {},
   "outputs": [
    {
     "data": {
      "text/html": [
       "<div>\n",
       "<style scoped>\n",
       "    .dataframe tbody tr th:only-of-type {\n",
       "        vertical-align: middle;\n",
       "    }\n",
       "\n",
       "    .dataframe tbody tr th {\n",
       "        vertical-align: top;\n",
       "    }\n",
       "\n",
       "    .dataframe thead th {\n",
       "        text-align: right;\n",
       "    }\n",
       "</style>\n",
       "<table border=\"1\" class=\"dataframe\">\n",
       "  <thead>\n",
       "    <tr style=\"text-align: right;\">\n",
       "      <th></th>\n",
       "      <th>OBJECTID</th>\n",
       "      <th>NAME</th>\n",
       "      <th>PARK_NAME</th>\n",
       "      <th>ADDRESS_91</th>\n",
       "      <th>ZIP_CODE</th>\n",
       "      <th>POOL_TYPE</th>\n",
       "      <th>POOL_STATU</th>\n",
       "      <th>COMMENTS</th>\n",
       "      <th>DATE_INSTA</th>\n",
       "      <th>DATA_SOURC</th>\n",
       "      <th>geometry</th>\n",
       "    </tr>\n",
       "  </thead>\n",
       "  <tbody>\n",
       "    <tr>\n",
       "      <th>0</th>\n",
       "      <td>1</td>\n",
       "      <td>Fox Chase Pool</td>\n",
       "      <td>Fox Chase Recreation Center</td>\n",
       "      <td>7901 RIDGEWAY ST</td>\n",
       "      <td>19111</td>\n",
       "      <td>OUTDOOR</td>\n",
       "      <td>ACTIVE</td>\n",
       "      <td>NaN</td>\n",
       "      <td>NaN</td>\n",
       "      <td>Finder; Previous GIS Data</td>\n",
       "      <td>POINT (-8358125.204 4876654.079)</td>\n",
       "    </tr>\n",
       "  </tbody>\n",
       "</table>\n",
       "</div>"
      ],
      "text/plain": [
       "   OBJECTID            NAME                    PARK_NAME        ADDRESS_91  \\\n",
       "0         1  Fox Chase Pool  Fox Chase Recreation Center  7901 RIDGEWAY ST   \n",
       "\n",
       "   ZIP_CODE POOL_TYPE POOL_STATU COMMENTS DATE_INSTA  \\\n",
       "0     19111   OUTDOOR     ACTIVE      NaN        NaN   \n",
       "\n",
       "                  DATA_SOURC                          geometry  \n",
       "0  Finder; Previous GIS Data  POINT (-8358125.204 4876654.079)  "
      ]
     },
     "execution_count": 39,
     "metadata": {},
     "output_type": "execute_result"
    }
   ],
   "source": [
    "fox_pool_meter = fox_pool.to_crs(3857)\n",
    "fox_pool_meter"
   ]
  },
  {
   "cell_type": "markdown",
   "metadata": {},
   "source": [
    "\n",
    "\n",
    "<div class=\"alert alert-block alert-info\">\n",
    "    \n",
    "* <span style='font-family:Georgia'> Check if the CRS is changed and meter is the unit of measurement (HINT: .crs)\n",
    " \n",
    "</div>"
   ]
  },
  {
   "cell_type": "code",
   "execution_count": 40,
   "metadata": {},
   "outputs": [
    {
     "data": {
      "text/plain": [
       "<Derived Projected CRS: EPSG:3857>\n",
       "Name: WGS 84 / Pseudo-Mercator\n",
       "Axis Info [cartesian]:\n",
       "- X[east]: Easting (metre)\n",
       "- Y[north]: Northing (metre)\n",
       "Area of Use:\n",
       "- name: World between 85.06°S and 85.06°N.\n",
       "- bounds: (-180.0, -85.06, 180.0, 85.06)\n",
       "Coordinate Operation:\n",
       "- name: Popular Visualisation Pseudo-Mercator\n",
       "- method: Popular Visualisation Pseudo Mercator\n",
       "Datum: World Geodetic System 1984 ensemble\n",
       "- Ellipsoid: WGS 84\n",
       "- Prime Meridian: Greenwich"
      ]
     },
     "execution_count": 40,
     "metadata": {},
     "output_type": "execute_result"
    }
   ],
   "source": [
    "fox_pool_meter.crs"
   ]
  },
  {
   "cell_type": "markdown",
   "metadata": {},
   "source": [
    "\n",
    "<div class=\"alert alert-block alert-info\">\n",
    "    \n",
    "* <span style='font-family:Georgia'> Now, buffer a distance of your choice (in meters) on Fox Chase swimming pool. Plot the buffered point.\n",
    " \n",
    "</div>\n",
    "\n"
   ]
  },
  {
   "cell_type": "code",
   "execution_count": 41,
   "metadata": {},
   "outputs": [],
   "source": [
    "fox_pool_meter_buffered = fox_pool_meter.geometry.buffer(10)"
   ]
  },
  {
   "cell_type": "markdown",
   "metadata": {},
   "source": [
    "<div class=\"alert alert-block alert-info\">\n",
    "    \n",
    "* <span style='font-family:Georgia'> Plot the buffered point.\n",
    " \n",
    "</div>"
   ]
  },
  {
   "cell_type": "code",
   "execution_count": 42,
   "metadata": {
    "scrolled": false
   },
   "outputs": [
    {
     "data": {
      "text/plain": [
       "<Axes: >"
      ]
     },
     "execution_count": 42,
     "metadata": {},
     "output_type": "execute_result"
    },
    {
     "data": {
      "image/png": "[encoded data removed]",
      "text/plain": [
       "<Figure size 640x480 with 1 Axes>"
      ]
     },
     "metadata": {},
     "output_type": "display_data"
    }
   ],
   "source": [
    "fox_pool_meter_buffered.plot()"
   ]
  },
  {
   "cell_type": "markdown",
   "metadata": {},
   "source": [
    "# Buffer analysis - real world application\n"
   ]
  },
  {
   "cell_type": "markdown",
   "metadata": {},
   "source": [
    "<div class=\"alert alert-block alert-info\">\n",
    "    \n",
    " <span style='font-family:Georgia'> An avaiation company, ABC is planning to expand its flight services from Doha. The constraint however is that all the new flight services must be within 1000 kilometre range. Using your Geospatial Analysis skill, can you please tell whether a new flight service to Abu Dhabi from Doha is feasible?\n",
    " \n",
    "</div>"
   ]
  },
  {
   "cell_type": "markdown",
   "metadata": {},
   "source": [
    "<div class=\"alert alert-block alert-info\">\n",
    "    \n",
    " <span style='font-family:Georgia'> HINT: Please note that Doha and Abu Dhabi are capital cities. Can you use a dataset already available with GeoPandas library (gpd.datasets.available) to locate the geometry points for these cities.\n",
    " \n",
    "</div>"
   ]
  },
  {
   "cell_type": "code",
   "execution_count": 43,
   "metadata": {},
   "outputs": [
    {
     "data": {
      "text/plain": [
       "['naturalearth_cities', 'naturalearth_lowres', 'nybb']"
      ]
     },
     "execution_count": 43,
     "metadata": {},
     "output_type": "execute_result"
    }
   ],
   "source": [
    "gpd.datasets.available"
   ]
  },
  {
   "cell_type": "code",
   "execution_count": 52,
   "metadata": {},
   "outputs": [
    {
     "data": {
      "text/html": [
       "<div>\n",
       "<style scoped>\n",
       "    .dataframe tbody tr th:only-of-type {\n",
       "        vertical-align: middle;\n",
       "    }\n",
       "\n",
       "    .dataframe tbody tr th {\n",
       "        vertical-align: top;\n",
       "    }\n",
       "\n",
       "    .dataframe thead th {\n",
       "        text-align: right;\n",
       "    }\n",
       "</style>\n",
       "<table border=\"1\" class=\"dataframe\">\n",
       "  <thead>\n",
       "    <tr style=\"text-align: right;\">\n",
       "      <th></th>\n",
       "      <th>name</th>\n",
       "      <th>geometry</th>\n",
       "    </tr>\n",
       "  </thead>\n",
       "  <tbody>\n",
       "    <tr>\n",
       "      <th>0</th>\n",
       "      <td>Vatican City</td>\n",
       "      <td>POINT (12.45339 41.90328)</td>\n",
       "    </tr>\n",
       "    <tr>\n",
       "      <th>1</th>\n",
       "      <td>San Marino</td>\n",
       "      <td>POINT (12.44177 43.93610)</td>\n",
       "    </tr>\n",
       "    <tr>\n",
       "      <th>2</th>\n",
       "      <td>Vaduz</td>\n",
       "      <td>POINT (9.51667 47.13372)</td>\n",
       "    </tr>\n",
       "    <tr>\n",
       "      <th>3</th>\n",
       "      <td>Lobamba</td>\n",
       "      <td>POINT (31.20000 -26.46667)</td>\n",
       "    </tr>\n",
       "    <tr>\n",
       "      <th>4</th>\n",
       "      <td>Luxembourg</td>\n",
       "      <td>POINT (6.13000 49.61166)</td>\n",
       "    </tr>\n",
       "  </tbody>\n",
       "</table>\n",
       "</div>"
      ],
      "text/plain": [
       "           name                    geometry\n",
       "0  Vatican City   POINT (12.45339 41.90328)\n",
       "1    San Marino   POINT (12.44177 43.93610)\n",
       "2         Vaduz    POINT (9.51667 47.13372)\n",
       "3       Lobamba  POINT (31.20000 -26.46667)\n",
       "4    Luxembourg    POINT (6.13000 49.61166)"
      ]
     },
     "execution_count": 52,
     "metadata": {},
     "output_type": "execute_result"
    }
   ],
   "source": [
    "world = gpd.read_file(gpd.datasets.get_path('naturalearth_cities'))\n",
    "world.head()"
   ]
  },
  {
   "cell_type": "code",
   "execution_count": 58,
   "metadata": {},
   "outputs": [
    {
     "name": "stdout",
     "output_type": "stream",
     "text": [
      "    name                   geometry\n",
      "21  Doha  POINT (51.53297 25.28656)\n"
     ]
    },
    {
     "data": {
      "text/plain": [
       "<Axes: >"
      ]
     },
     "execution_count": 58,
     "metadata": {},
     "output_type": "execute_result"
    },
    {
     "data": {
      "image/png": "[encoded data removed]",
      "text/plain": [
       "<Figure size 640x480 with 1 Axes>"
      ]
     },
     "metadata": {},
     "output_type": "display_data"
    }
   ],
   "source": [
    "doha = world[world[\"name\"] == \"Doha\"]\n",
    "print(doha.head())\n",
    "doha.plot()"
   ]
  },
  {
   "cell_type": "code",
   "execution_count": 59,
   "metadata": {},
   "outputs": [
    {
     "name": "stdout",
     "output_type": "stream",
     "text": [
      "         name                   geometry\n",
      "48  Abu Dhabi  POINT (54.36659 24.46668)\n"
     ]
    },
    {
     "data": {
      "text/plain": [
       "<Axes: >"
      ]
     },
     "execution_count": 59,
     "metadata": {},
     "output_type": "execute_result"
    },
    {
     "data": {
      "image/png": "[encoded data removed]",
      "text/plain": [
       "<Figure size 640x480 with 1 Axes>"
      ]
     },
     "metadata": {},
     "output_type": "display_data"
    }
   ],
   "source": [
    "abu = world[world[\"name\"] == \"Abu Dhabi\"]\n",
    "print(abu.head())\n",
    "abu.plot()"
   ]
  },
  {
   "cell_type": "code",
   "execution_count": 60,
   "metadata": {},
   "outputs": [
    {
     "data": {
      "text/plain": [
       "<Geographic 2D CRS: GEOGCS[\"WGS 84\",DATUM[\"WGS_1984\",SPHEROID[\"WGS 84\" ...>\n",
       "Name: WGS 84\n",
       "Axis Info [ellipsoidal]:\n",
       "- lon[east]: Longitude (Degree)\n",
       "- lat[north]: Latitude (Degree)\n",
       "Area of Use:\n",
       "- undefined\n",
       "Datum: World Geodetic System 1984\n",
       "- Ellipsoid: WGS 84\n",
       "- Prime Meridian: Greenwich"
      ]
     },
     "execution_count": 60,
     "metadata": {},
     "output_type": "execute_result"
    }
   ],
   "source": [
    "world.crs"
   ]
  },
  {
   "cell_type": "code",
   "execution_count": 61,
   "metadata": {},
   "outputs": [
    {
     "data": {
      "text/plain": [
       "<Derived Projected CRS: EPSG:3857>\n",
       "Name: WGS 84 / Pseudo-Mercator\n",
       "Axis Info [cartesian]:\n",
       "- X[east]: Easting (metre)\n",
       "- Y[north]: Northing (metre)\n",
       "Area of Use:\n",
       "- name: World between 85.06°S and 85.06°N.\n",
       "- bounds: (-180.0, -85.06, 180.0, 85.06)\n",
       "Coordinate Operation:\n",
       "- name: Popular Visualisation Pseudo-Mercator\n",
       "- method: Popular Visualisation Pseudo Mercator\n",
       "Datum: World Geodetic System 1984 ensemble\n",
       "- Ellipsoid: WGS 84\n",
       "- Prime Meridian: Greenwich"
      ]
     },
     "execution_count": 61,
     "metadata": {},
     "output_type": "execute_result"
    }
   ],
   "source": [
    "# Convert from degree to metre\n",
    "world_meter = world.to_crs(3857)\n",
    "world_meter.crs"
   ]
  },
  {
   "cell_type": "code",
   "execution_count": 62,
   "metadata": {},
   "outputs": [],
   "source": [
    "abu_m = world_meter[world_meter[\"name\"] == \"Abu Dhabi\"]\n",
    "doha_m = world_meter[world_meter[\"name\"] == \"Doha\"]"
   ]
  },
  {
   "cell_type": "code",
   "execution_count": 65,
   "metadata": {},
   "outputs": [
    {
     "data": {
      "text/plain": [
       "<Axes: >"
      ]
     },
     "execution_count": 65,
     "metadata": {},
     "output_type": "execute_result"
    },
    {
     "data": {
      "image/png": "[encoded data removed]",
      "text/plain": [
       "<Figure size 640x480 with 1 Axes>"
      ]
     },
     "metadata": {},
     "output_type": "display_data"
    },
    {
     "data": {
      "image/png": "[encoded data removed]",
      "text/plain": [
       "<Figure size 640x480 with 1 Axes>"
      ]
     },
     "metadata": {},
     "output_type": "display_data"
    }
   ],
   "source": [
    "abu_m.buffer(1000000).plot()\n",
    "doha_m.buffer(1000000).plot(color='red')"
   ]
  },
  {
   "cell_type": "code",
   "execution_count": 66,
   "metadata": {},
   "outputs": [
    {
     "data": {
      "text/plain": [
       "<Axes: >"
      ]
     },
     "execution_count": 66,
     "metadata": {},
     "output_type": "execute_result"
    },
    {
     "data": {
      "image/png": "[encoded data removed]",
      "text/plain": [
       "<Figure size 640x480 with 1 Axes>"
      ]
     },
     "metadata": {},
     "output_type": "display_data"
    }
   ],
   "source": [
    "ax = abu_m.plot()\n",
    "doha_m.plot(ax=ax, color='red')"
   ]
  },
  {
   "cell_type": "code",
   "execution_count": 67,
   "metadata": {},
   "outputs": [
    {
     "data": {
      "text/plain": [
       "<Axes: >"
      ]
     },
     "execution_count": 67,
     "metadata": {},
     "output_type": "execute_result"
    },
    {
     "data": {
      "image/png": "[encoded data removed]",
      "text/plain": [
       "<Figure size 640x480 with 1 Axes>"
      ]
     },
     "metadata": {},
     "output_type": "display_data"
    }
   ],
   "source": [
    "ax = abu_m.buffer(1000000).plot()\n",
    "doha_m.buffer(1000000).plot(ax=ax, color='red')"
   ]
  },
  {
   "cell_type": "markdown",
   "metadata": {},
   "source": []
  },
  {
   "cell_type": "markdown",
   "metadata": {},
   "source": [
    "# Workshop deliverable"
   ]
  },
  {
   "cell_type": "markdown",
   "metadata": {},
   "source": [
    "You are required to submit a copy of this solved Jupyter notebook through the Workshop 4 Submission Point on the Moodle. Since this is a teamwork so your work will most likely be identical to your team members. Despite that each team member should submit independently."
   ]
  },
  {
   "cell_type": "code",
   "execution_count": null,
   "metadata": {},
   "outputs": [],
   "source": []
  }
 ],
 "metadata": {
  "hide_input": false,
  "kernelspec": {
   "display_name": "Python 3 (ipykernel)",
   "language": "python",
   "name": "python3"
  },
  "language_info": {
   "codemirror_mode": {
    "name": "ipython",
    "version": 3
   },
   "file_extension": ".py",
   "mimetype": "text/x-python",
   "name": "python",
   "nbconvert_exporter": "python",
   "pygments_lexer": "ipython3",
   "version": "3.9.5"
  }
 },
 "nbformat": 4,
 "nbformat_minor": 4
}
