{
 "cells": [
  {
   "cell_type": "markdown",
   "metadata": {},
   "source": [
    "# <h1><center>Workshop 3</center></h1>\n",
    "## Objectives"
   ]
  },
  {
   "cell_type": "markdown",
   "metadata": {},
   "source": [
    "- To learn and practice the steps requird for reading geospatial data with GeoPandas.\n",
    "- To learn and practice the steps required for reading CSV data with Pandas and convert them into GeoDataFrame.\n",
    "- To learn as to how to set certain condition in the data frame which could be used for filtering, removing outlier etc.\n",
    "- To perfrorm simple plotting using geospatial data.\n",
    "\n"
   ]
  },
  {
   "cell_type": "markdown",
   "metadata": {},
   "source": [
    "## Prior to starting this workshop you must import some key libraries "
   ]
  },
  {
   "cell_type": "code",
   "execution_count": 1,
   "metadata": {},
   "outputs": [],
   "source": [
    "# Import these libraries: GeoPandas, Pandas and Matplotlip.pyplot\n",
    "import geopandas as gpd\n",
    "import pandas as pd\n",
    "import matplotlib.pyplot as plt\n",
    "\n"
   ]
  },
  {
   "cell_type": "markdown",
   "metadata": {},
   "source": [
    "## Task 1. Read Spatial data with GeoPandas "
   ]
  },
  {
   "cell_type": "markdown",
   "metadata": {},
   "source": [
    "<div class=\"alert alert-block alert-info\">\n",
    "    \n",
    "<b>Instructions:</b> \n",
    "\n",
    "\n",
    "* <span style='font-family:Georgia'> Please read  \"Workshop3Data/Neighborhoods_Philadelphia.shp\" with GeoPandas. \n",
    "    \n",
    "* <span style='font-family:Georgia'> The data to be read is a shapefile with the name Neighborhoods_Philadelphia.\n",
    " \n",
    "</div>"
   ]
  },
  {
   "cell_type": "code",
   "execution_count": 6,
   "metadata": {},
   "outputs": [],
   "source": [
    "file = \"week3/Neighborhoods_Philadelphia.shp\"\n",
    "gdf = gpd.read_file(file)"
   ]
  },
  {
   "cell_type": "markdown",
   "metadata": {},
   "source": [
    "<div class=\"alert alert-block alert-info\">\n",
    "<span style='font-family:Georgia'> \n",
    "Using an appropriate line of code, show the the first five rows of the data.\n",
    "</div>"
   ]
  },
  {
   "cell_type": "code",
   "execution_count": 7,
   "metadata": {},
   "outputs": [
    {
     "data": {
      "text/html": [
       "<div>\n",
       "<style scoped>\n",
       "    .dataframe tbody tr th:only-of-type {\n",
       "        vertical-align: middle;\n",
       "    }\n",
       "\n",
       "    .dataframe tbody tr th {\n",
       "        vertical-align: top;\n",
       "    }\n",
       "\n",
       "    .dataframe thead th {\n",
       "        text-align: right;\n",
       "    }\n",
       "</style>\n",
       "<table border=\"1\" class=\"dataframe\">\n",
       "  <thead>\n",
       "    <tr style=\"text-align: right;\">\n",
       "      <th></th>\n",
       "      <th>NAME</th>\n",
       "      <th>LISTNAME</th>\n",
       "      <th>MAPNAME</th>\n",
       "      <th>Shape_Leng</th>\n",
       "      <th>Shape_Area</th>\n",
       "      <th>geometry</th>\n",
       "    </tr>\n",
       "  </thead>\n",
       "  <tbody>\n",
       "    <tr>\n",
       "      <th>0</th>\n",
       "      <td>BRIDESBURG</td>\n",
       "      <td>Bridesburg</td>\n",
       "      <td>Bridesburg</td>\n",
       "      <td>27814.546521</td>\n",
       "      <td>4.458626e+07</td>\n",
       "      <td>POLYGON ((2719789.837 256235.538, 2719814.855 ...</td>\n",
       "    </tr>\n",
       "    <tr>\n",
       "      <th>1</th>\n",
       "      <td>BUSTLETON</td>\n",
       "      <td>Bustleton</td>\n",
       "      <td>Bustleton</td>\n",
       "      <td>48868.458365</td>\n",
       "      <td>1.140504e+08</td>\n",
       "      <td>POLYGON ((2733378.171 289259.945, 2732818.985 ...</td>\n",
       "    </tr>\n",
       "    <tr>\n",
       "      <th>2</th>\n",
       "      <td>CEDARBROOK</td>\n",
       "      <td>Cedarbrook</td>\n",
       "      <td>Cedarbrook</td>\n",
       "      <td>20021.415802</td>\n",
       "      <td>2.487174e+07</td>\n",
       "      <td>POLYGON ((2685267.950 279747.336, 2685272.265 ...</td>\n",
       "    </tr>\n",
       "    <tr>\n",
       "      <th>3</th>\n",
       "      <td>CHESTNUT_HILL</td>\n",
       "      <td>Chestnut Hill</td>\n",
       "      <td>Chestnut Hill</td>\n",
       "      <td>56394.297195</td>\n",
       "      <td>7.966498e+07</td>\n",
       "      <td>POLYGON ((2678490.151 284400.400, 2678518.732 ...</td>\n",
       "    </tr>\n",
       "    <tr>\n",
       "      <th>4</th>\n",
       "      <td>EAST_FALLS</td>\n",
       "      <td>East Falls</td>\n",
       "      <td>East Falls</td>\n",
       "      <td>27400.776417</td>\n",
       "      <td>4.057689e+07</td>\n",
       "      <td>POLYGON ((2686769.727 263625.367, 2686921.108 ...</td>\n",
       "    </tr>\n",
       "  </tbody>\n",
       "</table>\n",
       "</div>"
      ],
      "text/plain": [
       "            NAME       LISTNAME        MAPNAME    Shape_Leng    Shape_Area  \\\n",
       "0     BRIDESBURG     Bridesburg     Bridesburg  27814.546521  4.458626e+07   \n",
       "1      BUSTLETON      Bustleton      Bustleton  48868.458365  1.140504e+08   \n",
       "2     CEDARBROOK     Cedarbrook     Cedarbrook  20021.415802  2.487174e+07   \n",
       "3  CHESTNUT_HILL  Chestnut Hill  Chestnut Hill  56394.297195  7.966498e+07   \n",
       "4     EAST_FALLS     East Falls     East Falls  27400.776417  4.057689e+07   \n",
       "\n",
       "                                            geometry  \n",
       "0  POLYGON ((2719789.837 256235.538, 2719814.855 ...  \n",
       "1  POLYGON ((2733378.171 289259.945, 2732818.985 ...  \n",
       "2  POLYGON ((2685267.950 279747.336, 2685272.265 ...  \n",
       "3  POLYGON ((2678490.151 284400.400, 2678518.732 ...  \n",
       "4  POLYGON ((2686769.727 263625.367, 2686921.108 ...  "
      ]
     },
     "execution_count": 7,
     "metadata": {},
     "output_type": "execute_result"
    }
   ],
   "source": [
    "gdf.head()"
   ]
  },
  {
   "cell_type": "markdown",
   "metadata": {},
   "source": [
    "<div class=\"alert alert-block alert-info\">\n",
    "<span style='font-family:Georgia'> \n",
    "Plot the data with geopandas .plot() method\n",
    "\n",
    "</div>"
   ]
  },
  {
   "cell_type": "code",
   "execution_count": 8,
   "metadata": {},
   "outputs": [
    {
     "data": {
      "text/plain": [
       "<Axes: >"
      ]
     },
     "execution_count": 8,
     "metadata": {},
     "output_type": "execute_result"
    },
    {
     "data": {
      "image/png": "[encoded data removed]",
      "text/plain": [
       "<Figure size 640x480 with 1 Axes>"
      ]
     },
     "metadata": {},
     "output_type": "display_data"
    }
   ],
   "source": [
    "gdf.plot()"
   ]
  },
  {
   "cell_type": "markdown",
   "metadata": {},
   "source": [
    "## Task 2. Read CSV file with Pandas and convert to GeoDataFrame "
   ]
  },
  {
   "cell_type": "markdown",
   "metadata": {},
   "source": [
    "\n",
    "<div class=\"alert alert-block alert-info\">\n",
    "    \n",
    "<b>Instructions:</b> \n",
    "\n",
    "\n",
    "* <span style='font-family:Georgia'> Read the incidents.csv file using Pandas. The data is stored in the Workshop3Data folder.\n",
    "    \n",
    " \n",
    "* <span style='font-family:Georgia'> Show a sample of rows from the DataFrame.\n",
    "</div>"
   ]
  },
  {
   "cell_type": "code",
   "execution_count": 9,
   "metadata": {},
   "outputs": [],
   "source": [
    "incidents_file = \"week3/incidents.csv\"\n",
    "df = pd.read_csv(incidents_file)"
   ]
  },
  {
   "cell_type": "markdown",
   "metadata": {},
   "source": [
    "This is a pandas dataframe which needs to be converted into a GeoDataframe. \n",
    "\n",
    "<div class=\"alert alert-block alert-info\">\n",
    "    \n",
    "<b>Instructions:</b> \n",
    "\n",
    "\n",
    "* <span style='font-family:Georgia'> First find the column names for the coordinates (latitude and longitude columns).\n",
    "    \n",
    "* <span style='font-family:Georgia'> Convert the Dataframe to GeodataFrame using gpd.GeoDataFrame(). \n",
    "    \n",
    "* <span style='font-family:Georgia'> After converting the DataFrame to a GeoDataframe, a geometry column will be included in the dataset. \n",
    "\n",
    "\n"
   ]
  },
  {
   "cell_type": "code",
   "execution_count": 13,
   "metadata": {},
   "outputs": [
    {
     "data": {
      "text/html": [
       "<div>\n",
       "<style scoped>\n",
       "    .dataframe tbody tr th:only-of-type {\n",
       "        vertical-align: middle;\n",
       "    }\n",
       "\n",
       "    .dataframe tbody tr th {\n",
       "        vertical-align: top;\n",
       "    }\n",
       "\n",
       "    .dataframe thead th {\n",
       "        text-align: right;\n",
       "    }\n",
       "</style>\n",
       "<table border=\"1\" class=\"dataframe\">\n",
       "  <thead>\n",
       "    <tr style=\"text-align: right;\">\n",
       "      <th></th>\n",
       "      <th>objectid</th>\n",
       "      <th>dc_dist</th>\n",
       "      <th>psa</th>\n",
       "      <th>dispatch_date_time</th>\n",
       "      <th>dispatch_date</th>\n",
       "      <th>dispatch_time</th>\n",
       "      <th>hour_</th>\n",
       "      <th>dc_key</th>\n",
       "      <th>location_block</th>\n",
       "      <th>ucr_general</th>\n",
       "      <th>text_general_code</th>\n",
       "      <th>point_x</th>\n",
       "      <th>point_y</th>\n",
       "      <th>lat</th>\n",
       "      <th>lng</th>\n",
       "      <th>geometry</th>\n",
       "    </tr>\n",
       "  </thead>\n",
       "  <tbody>\n",
       "    <tr>\n",
       "      <th>0</th>\n",
       "      <td>129</td>\n",
       "      <td>9</td>\n",
       "      <td>2</td>\n",
       "      <td>25/03/2020 18:32</td>\n",
       "      <td>25/03/2020</td>\n",
       "      <td>18:32:00</td>\n",
       "      <td>18</td>\n",
       "      <td>2.020090e+11</td>\n",
       "      <td>1400 BLOCK SPRING GARDEN ST</td>\n",
       "      <td>600</td>\n",
       "      <td>Theft from Vehicle</td>\n",
       "      <td>-75.161446</td>\n",
       "      <td>39.962334</td>\n",
       "      <td>39.962334</td>\n",
       "      <td>-75.161446</td>\n",
       "      <td>POINT (39.96233 -75.16145)</td>\n",
       "    </tr>\n",
       "    <tr>\n",
       "      <th>1</th>\n",
       "      <td>41</td>\n",
       "      <td>77</td>\n",
       "      <td>A</td>\n",
       "      <td>08/03/2020 19:08</td>\n",
       "      <td>08/03/2020</td>\n",
       "      <td>19:08:00</td>\n",
       "      <td>19</td>\n",
       "      <td>2.020770e+11</td>\n",
       "      <td>0 BLOCK PIA WAY</td>\n",
       "      <td>600</td>\n",
       "      <td>Thefts</td>\n",
       "      <td>-75.230706</td>\n",
       "      <td>39.883881</td>\n",
       "      <td>39.883881</td>\n",
       "      <td>-75.230706</td>\n",
       "      <td>POINT (39.88388 -75.23071)</td>\n",
       "    </tr>\n",
       "    <tr>\n",
       "      <th>2</th>\n",
       "      <td>42</td>\n",
       "      <td>77</td>\n",
       "      <td>A</td>\n",
       "      <td>15/03/2020 18:41</td>\n",
       "      <td>15/03/2020</td>\n",
       "      <td>18:41:00</td>\n",
       "      <td>18</td>\n",
       "      <td>2.020770e+11</td>\n",
       "      <td>0 BLOCK PIA WAY</td>\n",
       "      <td>600</td>\n",
       "      <td>Thefts</td>\n",
       "      <td>-75.230706</td>\n",
       "      <td>39.883881</td>\n",
       "      <td>39.883881</td>\n",
       "      <td>-75.230706</td>\n",
       "      <td>POINT (39.88388 -75.23071)</td>\n",
       "    </tr>\n",
       "    <tr>\n",
       "      <th>3</th>\n",
       "      <td>43</td>\n",
       "      <td>77</td>\n",
       "      <td>A</td>\n",
       "      <td>18/03/2020 08:17</td>\n",
       "      <td>18/03/2020</td>\n",
       "      <td>08:17:00</td>\n",
       "      <td>8</td>\n",
       "      <td>2.020770e+11</td>\n",
       "      <td>0 BLOCK PIA WAY</td>\n",
       "      <td>600</td>\n",
       "      <td>Thefts</td>\n",
       "      <td>-75.230706</td>\n",
       "      <td>39.883881</td>\n",
       "      <td>39.883881</td>\n",
       "      <td>-75.230706</td>\n",
       "      <td>POINT (39.88388 -75.23071)</td>\n",
       "    </tr>\n",
       "    <tr>\n",
       "      <th>4</th>\n",
       "      <td>44</td>\n",
       "      <td>77</td>\n",
       "      <td>A</td>\n",
       "      <td>03/04/2020 15:32</td>\n",
       "      <td>03/04/2020</td>\n",
       "      <td>15:32:33</td>\n",
       "      <td>15</td>\n",
       "      <td>2.020770e+11</td>\n",
       "      <td>0 BLOCK PIA WAY</td>\n",
       "      <td>600</td>\n",
       "      <td>Thefts</td>\n",
       "      <td>-75.230706</td>\n",
       "      <td>39.883881</td>\n",
       "      <td>39.883881</td>\n",
       "      <td>-75.230706</td>\n",
       "      <td>POINT (39.88388 -75.23071)</td>\n",
       "    </tr>\n",
       "  </tbody>\n",
       "</table>\n",
       "</div>"
      ],
      "text/plain": [
       "   objectid  dc_dist psa dispatch_date_time dispatch_date dispatch_time  \\\n",
       "0       129        9   2   25/03/2020 18:32    25/03/2020      18:32:00   \n",
       "1        41       77   A   08/03/2020 19:08    08/03/2020      19:08:00   \n",
       "2        42       77   A   15/03/2020 18:41    15/03/2020      18:41:00   \n",
       "3        43       77   A   18/03/2020 08:17    18/03/2020      08:17:00   \n",
       "4        44       77   A   03/04/2020 15:32    03/04/2020      15:32:33   \n",
       "\n",
       "   hour_        dc_key               location_block  ucr_general  \\\n",
       "0     18  2.020090e+11  1400 BLOCK SPRING GARDEN ST          600   \n",
       "1     19  2.020770e+11              0 BLOCK PIA WAY          600   \n",
       "2     18  2.020770e+11              0 BLOCK PIA WAY          600   \n",
       "3      8  2.020770e+11              0 BLOCK PIA WAY          600   \n",
       "4     15  2.020770e+11              0 BLOCK PIA WAY          600   \n",
       "\n",
       "    text_general_code    point_x    point_y        lat        lng  \\\n",
       "0  Theft from Vehicle -75.161446  39.962334  39.962334 -75.161446   \n",
       "1              Thefts -75.230706  39.883881  39.883881 -75.230706   \n",
       "2              Thefts -75.230706  39.883881  39.883881 -75.230706   \n",
       "3              Thefts -75.230706  39.883881  39.883881 -75.230706   \n",
       "4              Thefts -75.230706  39.883881  39.883881 -75.230706   \n",
       "\n",
       "                     geometry  \n",
       "0  POINT (39.96233 -75.16145)  \n",
       "1  POINT (39.88388 -75.23071)  \n",
       "2  POINT (39.88388 -75.23071)  \n",
       "3  POINT (39.88388 -75.23071)  \n",
       "4  POINT (39.88388 -75.23071)  "
      ]
     },
     "execution_count": 13,
     "metadata": {},
     "output_type": "execute_result"
    }
   ],
   "source": [
    "#column names for the coordinates (latitude and longitude columns). = lat, lng\n",
    "geoDF = gpd.GeoDataFrame(df, geometry=gpd.points_from_xy(df.lat, df.lng))\n",
    "geoDF.head()"
   ]
  },
  {
   "cell_type": "markdown",
   "metadata": {},
   "source": [
    "<div class=\"alert alert-block alert-info\">\n",
    "<span style='font-family:Georgia'> \n",
    "Plot the GeoDataFrame with geopandas .plot() method\n",
    "\n",
    "</div>"
   ]
  },
  {
   "cell_type": "code",
   "execution_count": 14,
   "metadata": {},
   "outputs": [
    {
     "data": {
      "text/plain": [
       "<Axes: >"
      ]
     },
     "execution_count": 14,
     "metadata": {},
     "output_type": "execute_result"
    },
    {
     "data": {
      "image/png": "[encoded data removed]",
      "text/plain": [
       "<Figure size 640x480 with 1 Axes>"
      ]
     },
     "metadata": {},
     "output_type": "display_data"
    }
   ],
   "source": [
    "geoDF.plot()"
   ]
  },
  {
   "cell_type": "markdown",
   "metadata": {},
   "source": [
    "\n",
    "<div class=\"alert alert-block alert-danger\">\n",
    "<b>Please note:</b> It appears that some points are outliers, probably in another city. Can you remove them?.\n",
    "</div>\n",
    "\n",
    "<div class=\"alert alert-block alert-info\">\n",
    "<span style='font-family:Georgia'> \n",
    "One way to remove these outliers is to put some conditions on the lat. For example, Try to use indexing such as, \"lat\"> 38. It should work in this case. After removing these outliers you should re-plot to see the results.\n",
    "\n",
    "</div>"
   ]
  },
  {
   "cell_type": "code",
   "execution_count": 15,
   "metadata": {},
   "outputs": [],
   "source": [
    "geo_no_outliers = geoDF[geoDF['lat']>38]"
   ]
  },
  {
   "cell_type": "markdown",
   "metadata": {},
   "source": [
    "<div class=\"alert alert-block alert-info\">\n",
    "<span style='font-family:Georgia'> \n",
    "Plot the cleaned GeoDataFrame with geopandas .plot() method\n",
    "\n",
    "</div>"
   ]
  },
  {
   "cell_type": "code",
   "execution_count": 16,
   "metadata": {},
   "outputs": [
    {
     "data": {
      "text/plain": [
       "<Axes: >"
      ]
     },
     "execution_count": 16,
     "metadata": {},
     "output_type": "execute_result"
    },
    {
     "data": {
      "image/png": "[encoded data removed]",
      "text/plain": [
       "<Figure size 640x480 with 1 Axes>"
      ]
     },
     "metadata": {},
     "output_type": "display_data"
    }
   ],
   "source": [
    "geo_no_outliers.plot()"
   ]
  },
  {
   "cell_type": "markdown",
   "metadata": {},
   "source": [
    "\n",
    "\n",
    "<div class=\"alert alert-block alert-info\">\n",
    "<span style='font-family:Georgia'> \n",
    "Save the cleaned data to the Workshop3Data Folder: call it incidents_clean.shp.\n",
    "\n",
    "</div>"
   ]
  },
  {
   "cell_type": "code",
   "execution_count": 18,
   "metadata": {},
   "outputs": [
    {
     "name": "stderr",
     "output_type": "stream",
     "text": [
      "/var/folders/3x/5jj60pms5ml09xsn32f0c4yr0000gn/T/ipykernel_33399/2100665245.py:1: UserWarning: Column names longer than 10 characters will be truncated when saved to ESRI Shapefile.\n",
      "  geo_no_outliers.to_file('week3/incidents_clean.shp')\n"
     ]
    }
   ],
   "source": [
    "geo_no_outliers.to_file('week3/incidents_clean.shp')"
   ]
  },
  {
   "cell_type": "markdown",
   "metadata": {},
   "source": [
    "# Workshop deliverable (Non-assessed activity)"
   ]
  },
  {
   "cell_type": "markdown",
   "metadata": {},
   "source": [
    "You are required to submit a copy of this solved Jupyter notebook through the Workshop 3 Submission Point on the Moodle. Since this is a teamwork so your work will most likely be identical to your team members. Despite that each team member should submit independently."
   ]
  }
 ],
 "metadata": {
  "hide_input": false,
  "kernelspec": {
   "display_name": "Python 3 (ipykernel)",
   "language": "python",
   "name": "python3"
  },
  "language_info": {
   "codemirror_mode": {
    "name": "ipython",
    "version": 3
   },
   "file_extension": ".py",
   "mimetype": "text/x-python",
   "name": "python",
   "nbconvert_exporter": "python",
   "pygments_lexer": "ipython3",
   "version": "3.9.5"
  }
 },
 "nbformat": 4,
 "nbformat_minor": 4
}
