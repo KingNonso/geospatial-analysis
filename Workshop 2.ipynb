{
 "cells": [
  {
   "cell_type": "code",
   "execution_count": null,
   "id": "8d645416",
   "metadata": {},
   "outputs": [],
   "source": [
    "# Part 1"
   ]
  },
  {
   "cell_type": "code",
   "execution_count": 2,
   "id": "cb0b1929",
   "metadata": {},
   "outputs": [],
   "source": [
    "# Assign it to a variable in python (appropriate data type)?\n",
    "countries = [\"AF\",\"AL\",\"DZ\",\"AS\",\"AD\",\"AO\",\"AI\",\"AQ\",\"AG\",\"AR\",\"AM\",\"AW\",\"AU\",\"AT\",\"AZ\",\"BS\",\"BH\",\"BD\",\"BB\",\"BY\",\"BE\"]"
   ]
  },
  {
   "cell_type": "code",
   "execution_count": 3,
   "id": "35722020",
   "metadata": {},
   "outputs": [
    {
     "name": "stdout",
     "output_type": "stream",
     "text": [
      "AL second value\n"
     ]
    }
   ],
   "source": [
    "# Access the second value?\n",
    "print(countries[1], 'second value')"
   ]
  },
  {
   "cell_type": "code",
   "execution_count": 5,
   "id": "66e2753a",
   "metadata": {},
   "outputs": [
    {
     "name": "stdout",
     "output_type": "stream",
     "text": [
      "countries is not empty, it has  21 values\n"
     ]
    }
   ],
   "source": [
    "# Check if the dataset is not empty?\n",
    "if len(countries) > 0:\n",
    "    print('countries is not empty, it has ', len(countries), 'values')"
   ]
  },
  {
   "cell_type": "code",
   "execution_count": 6,
   "id": "21167e83",
   "metadata": {},
   "outputs": [
    {
     "name": "stdout",
     "output_type": "stream",
     "text": [
      "found\n"
     ]
    }
   ],
   "source": [
    "# Check if “AQ” exists in the dataset?\n",
    "if \"AQ\" in countries:\n",
    "    print('found')\n",
    "else:\n",
    "    print('not found')"
   ]
  },
  {
   "cell_type": "code",
   "execution_count": 7,
   "id": "dbc75545",
   "metadata": {},
   "outputs": [],
   "source": [
    "# Part 2\n",
    "# Import the COVID-19 dataset, total_cases.csv as Pandas data frame and print the bottom five rows\n",
    "# of the data.\n",
    "file = 'data/total_cases.csv'\n",
    "import pandas as pd\n",
    "df = pd.read_csv(file)"
   ]
  },
  {
   "cell_type": "code",
   "execution_count": 8,
   "id": "8eccf17f",
   "metadata": {},
   "outputs": [
    {
     "data": {
      "text/html": [
       "<div>\n",
       "<style scoped>\n",
       "    .dataframe tbody tr th:only-of-type {\n",
       "        vertical-align: middle;\n",
       "    }\n",
       "\n",
       "    .dataframe tbody tr th {\n",
       "        vertical-align: top;\n",
       "    }\n",
       "\n",
       "    .dataframe thead th {\n",
       "        text-align: right;\n",
       "    }\n",
       "</style>\n",
       "<table border=\"1\" class=\"dataframe\">\n",
       "  <thead>\n",
       "    <tr style=\"text-align: right;\">\n",
       "      <th></th>\n",
       "      <th>date</th>\n",
       "      <th>World</th>\n",
       "      <th>Afghanistan</th>\n",
       "      <th>Albania</th>\n",
       "      <th>Algeria</th>\n",
       "      <th>Andorra</th>\n",
       "      <th>Angola</th>\n",
       "      <th>Anguilla</th>\n",
       "      <th>Antigua and Barbuda</th>\n",
       "      <th>Argentina</th>\n",
       "      <th>...</th>\n",
       "      <th>Uzbekistan</th>\n",
       "      <th>Vanuatu</th>\n",
       "      <th>Vatican</th>\n",
       "      <th>Venezuela</th>\n",
       "      <th>Vietnam</th>\n",
       "      <th>Wallis and Futuna</th>\n",
       "      <th>Western Sahara</th>\n",
       "      <th>Yemen</th>\n",
       "      <th>Zambia</th>\n",
       "      <th>Zimbabwe</th>\n",
       "    </tr>\n",
       "  </thead>\n",
       "  <tbody>\n",
       "    <tr>\n",
       "      <th>325</th>\n",
       "      <td>2020-11-20</td>\n",
       "      <td>57030619</td>\n",
       "      <td>44133.0</td>\n",
       "      <td>30623.0</td>\n",
       "      <td>71652.0</td>\n",
       "      <td>6066.0</td>\n",
       "      <td>13922.0</td>\n",
       "      <td>3.0</td>\n",
       "      <td>139.0</td>\n",
       "      <td>1349434.0</td>\n",
       "      <td>...</td>\n",
       "      <td>71071.0</td>\n",
       "      <td>1.0</td>\n",
       "      <td>26.0</td>\n",
       "      <td>98665.0</td>\n",
       "      <td>1304.0</td>\n",
       "      <td>2.0</td>\n",
       "      <td>766.0</td>\n",
       "      <td>2086.0</td>\n",
       "      <td>17350.0</td>\n",
       "      <td>9046.0</td>\n",
       "    </tr>\n",
       "    <tr>\n",
       "      <th>326</th>\n",
       "      <td>2020-11-21</td>\n",
       "      <td>57710848</td>\n",
       "      <td>44365.0</td>\n",
       "      <td>31459.0</td>\n",
       "      <td>72755.0</td>\n",
       "      <td>6142.0</td>\n",
       "      <td>14134.0</td>\n",
       "      <td>3.0</td>\n",
       "      <td>139.0</td>\n",
       "      <td>1359026.0</td>\n",
       "      <td>...</td>\n",
       "      <td>71280.0</td>\n",
       "      <td>1.0</td>\n",
       "      <td>26.0</td>\n",
       "      <td>98665.0</td>\n",
       "      <td>1305.0</td>\n",
       "      <td>2.0</td>\n",
       "      <td>766.0</td>\n",
       "      <td>2090.0</td>\n",
       "      <td>17373.0</td>\n",
       "      <td>9120.0</td>\n",
       "    </tr>\n",
       "    <tr>\n",
       "      <th>327</th>\n",
       "      <td>2020-11-22</td>\n",
       "      <td>58278092</td>\n",
       "      <td>44519.0</td>\n",
       "      <td>32196.0</td>\n",
       "      <td>73774.0</td>\n",
       "      <td>6207.0</td>\n",
       "      <td>14413.0</td>\n",
       "      <td>3.0</td>\n",
       "      <td>139.0</td>\n",
       "      <td>1366169.0</td>\n",
       "      <td>...</td>\n",
       "      <td>71280.0</td>\n",
       "      <td>1.0</td>\n",
       "      <td>26.0</td>\n",
       "      <td>99017.0</td>\n",
       "      <td>1306.0</td>\n",
       "      <td>2.0</td>\n",
       "      <td>766.0</td>\n",
       "      <td>2093.0</td>\n",
       "      <td>17394.0</td>\n",
       "      <td>9172.0</td>\n",
       "    </tr>\n",
       "    <tr>\n",
       "      <th>328</th>\n",
       "      <td>2020-11-23</td>\n",
       "      <td>58794150</td>\n",
       "      <td>44771.0</td>\n",
       "      <td>32761.0</td>\n",
       "      <td>74862.0</td>\n",
       "      <td>6256.0</td>\n",
       "      <td>14493.0</td>\n",
       "      <td>4.0</td>\n",
       "      <td>139.0</td>\n",
       "      <td>1370350.0</td>\n",
       "      <td>...</td>\n",
       "      <td>71617.0</td>\n",
       "      <td>1.0</td>\n",
       "      <td>26.0</td>\n",
       "      <td>99835.0</td>\n",
       "      <td>1306.0</td>\n",
       "      <td>2.0</td>\n",
       "      <td>766.0</td>\n",
       "      <td>2099.0</td>\n",
       "      <td>17424.0</td>\n",
       "      <td>9220.0</td>\n",
       "    </tr>\n",
       "    <tr>\n",
       "      <th>329</th>\n",
       "      <td>2020-11-24</td>\n",
       "      <td>59307493</td>\n",
       "      <td>45017.0</td>\n",
       "      <td>33556.0</td>\n",
       "      <td>75867.0</td>\n",
       "      <td>6304.0</td>\n",
       "      <td>14493.0</td>\n",
       "      <td>4.0</td>\n",
       "      <td>139.0</td>\n",
       "      <td>1374348.0</td>\n",
       "      <td>...</td>\n",
       "      <td>71847.0</td>\n",
       "      <td>1.0</td>\n",
       "      <td>26.0</td>\n",
       "      <td>100143.0</td>\n",
       "      <td>1312.0</td>\n",
       "      <td>2.0</td>\n",
       "      <td>766.0</td>\n",
       "      <td>2107.0</td>\n",
       "      <td>17454.0</td>\n",
       "      <td>9308.0</td>\n",
       "    </tr>\n",
       "  </tbody>\n",
       "</table>\n",
       "<p>5 rows × 216 columns</p>\n",
       "</div>"
      ],
      "text/plain": [
       "           date     World  Afghanistan  Albania  Algeria  Andorra   Angola  \\\n",
       "325  2020-11-20  57030619      44133.0  30623.0  71652.0   6066.0  13922.0   \n",
       "326  2020-11-21  57710848      44365.0  31459.0  72755.0   6142.0  14134.0   \n",
       "327  2020-11-22  58278092      44519.0  32196.0  73774.0   6207.0  14413.0   \n",
       "328  2020-11-23  58794150      44771.0  32761.0  74862.0   6256.0  14493.0   \n",
       "329  2020-11-24  59307493      45017.0  33556.0  75867.0   6304.0  14493.0   \n",
       "\n",
       "     Anguilla  Antigua and Barbuda  Argentina  ...  Uzbekistan  Vanuatu  \\\n",
       "325       3.0                139.0  1349434.0  ...     71071.0      1.0   \n",
       "326       3.0                139.0  1359026.0  ...     71280.0      1.0   \n",
       "327       3.0                139.0  1366169.0  ...     71280.0      1.0   \n",
       "328       4.0                139.0  1370350.0  ...     71617.0      1.0   \n",
       "329       4.0                139.0  1374348.0  ...     71847.0      1.0   \n",
       "\n",
       "     Vatican  Venezuela  Vietnam  Wallis and Futuna  Western Sahara   Yemen  \\\n",
       "325     26.0    98665.0   1304.0                2.0           766.0  2086.0   \n",
       "326     26.0    98665.0   1305.0                2.0           766.0  2090.0   \n",
       "327     26.0    99017.0   1306.0                2.0           766.0  2093.0   \n",
       "328     26.0    99835.0   1306.0                2.0           766.0  2099.0   \n",
       "329     26.0   100143.0   1312.0                2.0           766.0  2107.0   \n",
       "\n",
       "      Zambia  Zimbabwe  \n",
       "325  17350.0    9046.0  \n",
       "326  17373.0    9120.0  \n",
       "327  17394.0    9172.0  \n",
       "328  17424.0    9220.0  \n",
       "329  17454.0    9308.0  \n",
       "\n",
       "[5 rows x 216 columns]"
      ]
     },
     "execution_count": 8,
     "metadata": {},
     "output_type": "execute_result"
    }
   ],
   "source": [
    "df.tail(5)"
   ]
  },
  {
   "cell_type": "code",
   "execution_count": 13,
   "id": "1a42f04d",
   "metadata": {},
   "outputs": [
    {
     "name": "stdout",
     "output_type": "stream",
     "text": [
      "     United Kingdom  United States    Sweden\n",
      "0               NaN            NaN       NaN\n",
      "1               NaN            NaN       NaN\n",
      "2               NaN            NaN       NaN\n",
      "3               NaN            NaN       NaN\n",
      "4               NaN            NaN       NaN\n",
      "..              ...            ...       ...\n",
      "325       1453256.0     11717827.0  202052.0\n",
      "326       1473508.0     11913944.0  208295.0\n",
      "327       1493383.0     12089438.0       NaN\n",
      "328       1512045.0     12246909.0       NaN\n",
      "329       1527495.0     12420872.0       NaN\n",
      "\n",
      "[330 rows x 3 columns]\n"
     ]
    }
   ],
   "source": [
    "# Print the columns corresponding to the United Kingdom, United States, and Sweden\n",
    "df1 = df[['United Kingdom','United States', 'Sweden']]\n",
    "print(df1)"
   ]
  },
  {
   "cell_type": "code",
   "execution_count": 16,
   "id": "afdb7e0e",
   "metadata": {},
   "outputs": [
    {
     "name": "stdout",
     "output_type": "stream",
     "text": [
      "     United Kingdom  United States\n",
      "0               NaN            NaN\n",
      "1               NaN            NaN\n",
      "2               NaN            NaN\n",
      "3               NaN            NaN\n",
      "4               NaN            NaN\n",
      "..              ...            ...\n",
      "325       1453256.0     11717827.0\n",
      "326       1473508.0     11913944.0\n",
      "327       1493383.0     12089438.0\n",
      "328       1512045.0     12246909.0\n",
      "329       1527495.0     12420872.0\n",
      "\n",
      "[330 rows x 2 columns]\n"
     ]
    }
   ],
   "source": [
    "us_uk = df1[['United Kingdom','United States']]\n",
    "print(us_uk)"
   ]
  },
  {
   "cell_type": "code",
   "execution_count": 18,
   "id": "86d66668",
   "metadata": {},
   "outputs": [
    {
     "data": {
      "text/html": [
       "<div>\n",
       "<style scoped>\n",
       "    .dataframe tbody tr th:only-of-type {\n",
       "        vertical-align: middle;\n",
       "    }\n",
       "\n",
       "    .dataframe tbody tr th {\n",
       "        vertical-align: top;\n",
       "    }\n",
       "\n",
       "    .dataframe thead th {\n",
       "        text-align: right;\n",
       "    }\n",
       "</style>\n",
       "<table border=\"1\" class=\"dataframe\">\n",
       "  <thead>\n",
       "    <tr style=\"text-align: right;\">\n",
       "      <th></th>\n",
       "      <th>United Kingdom</th>\n",
       "      <th>United States</th>\n",
       "    </tr>\n",
       "  </thead>\n",
       "  <tbody>\n",
       "    <tr>\n",
       "      <th>count</th>\n",
       "      <td>2.980000e+02</td>\n",
       "      <td>3.090000e+02</td>\n",
       "    </tr>\n",
       "    <tr>\n",
       "      <th>mean</th>\n",
       "      <td>3.371480e+05</td>\n",
       "      <td>3.571054e+06</td>\n",
       "    </tr>\n",
       "    <tr>\n",
       "      <th>std</th>\n",
       "      <td>3.460354e+05</td>\n",
       "      <td>3.414074e+06</td>\n",
       "    </tr>\n",
       "    <tr>\n",
       "      <th>min</th>\n",
       "      <td>2.000000e+00</td>\n",
       "      <td>1.000000e+00</td>\n",
       "    </tr>\n",
       "    <tr>\n",
       "      <th>25%</th>\n",
       "      <td>9.813350e+04</td>\n",
       "      <td>3.681960e+05</td>\n",
       "    </tr>\n",
       "    <tr>\n",
       "      <th>50%</th>\n",
       "      <td>2.827705e+05</td>\n",
       "      <td>2.312302e+06</td>\n",
       "    </tr>\n",
       "    <tr>\n",
       "      <th>75%</th>\n",
       "      <td>3.574082e+05</td>\n",
       "      <td>6.300671e+06</td>\n",
       "    </tr>\n",
       "    <tr>\n",
       "      <th>max</th>\n",
       "      <td>1.527495e+06</td>\n",
       "      <td>1.242087e+07</td>\n",
       "    </tr>\n",
       "  </tbody>\n",
       "</table>\n",
       "</div>"
      ],
      "text/plain": [
       "       United Kingdom  United States\n",
       "count    2.980000e+02   3.090000e+02\n",
       "mean     3.371480e+05   3.571054e+06\n",
       "std      3.460354e+05   3.414074e+06\n",
       "min      2.000000e+00   1.000000e+00\n",
       "25%      9.813350e+04   3.681960e+05\n",
       "50%      2.827705e+05   2.312302e+06\n",
       "75%      3.574082e+05   6.300671e+06\n",
       "max      1.527495e+06   1.242087e+07"
      ]
     },
     "execution_count": 18,
     "metadata": {},
     "output_type": "execute_result"
    }
   ],
   "source": [
    "us_uk.describe()"
   ]
  },
  {
   "cell_type": "code",
   "execution_count": 21,
   "id": "e3ff8d3d",
   "metadata": {},
   "outputs": [
    {
     "name": "stdout",
     "output_type": "stream",
     "text": [
      "date                 2020-11-24\n",
      "World                  59307493\n",
      "Afghanistan             45017.0\n",
      "Albania                 33556.0\n",
      "Algeria                 75867.0\n",
      "                        ...    \n",
      "Wallis and Futuna           2.0\n",
      "Western Sahara            766.0\n",
      "Yemen                    2107.0\n",
      "Zambia                  17454.0\n",
      "Zimbabwe                 9308.0\n",
      "Length: 216, dtype: object\n"
     ]
    }
   ],
   "source": [
    "print(df.max())"
   ]
  },
  {
   "cell_type": "code",
   "execution_count": null,
   "id": "94467a9c",
   "metadata": {},
   "outputs": [],
   "source": []
  }
 ],
 "metadata": {
  "kernelspec": {
   "display_name": "Python 3 (ipykernel)",
   "language": "python",
   "name": "python3"
  },
  "language_info": {
   "codemirror_mode": {
    "name": "ipython",
    "version": 3
   },
   "file_extension": ".py",
   "mimetype": "text/x-python",
   "name": "python",
   "nbconvert_exporter": "python",
   "pygments_lexer": "ipython3",
   "version": "3.9.5"
  }
 },
 "nbformat": 4,
 "nbformat_minor": 5
}
